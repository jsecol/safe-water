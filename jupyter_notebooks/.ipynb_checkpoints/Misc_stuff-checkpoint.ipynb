{
 "cells": [
  {
   "cell_type": "markdown",
   "metadata": {},
   "source": [
    "*misc hint from web for formatting crosstab for export as html:*"
   ]
  },
  {
   "cell_type": "code",
   "execution_count": 3,
   "metadata": {},
   "outputs": [],
   "source": [
    "my_style = \"\"\"background-color: rgba(0, 0, 0, 0);\n",
    "border-bottom-color: rgb(0, 0, 0);\n",
    "border-bottom-style: none;\n",
    "border-bottom-width: 0px;\n",
    "border-collapse: collapse;JJJ\n",
    "border-image-outset: 0px;\n",
    "border-image-repeat: stretch;\n",
    "border-image-slice: 100%;\n",
    "border-image-source: none;\n",
    "border-image-width: 1;\n",
    "border-left-color: rgb(0, 0, 0);\n",
    "border-left-style: none;\n",
    "border-left-width: 0px;\n",
    "border-right-color: rgb(0, 0, 0);\n",
    "border-right-style: none;\n",
    "border-right-width: 0px;\n",
    "border-top-color: rgb(0, 0, 0);\n",
    "border-top-style: none;\n",
    "border-top-width: 0px;\n",
    "box-sizing: border-box;\n",
    "color: rgb(0, 0, 0);\n",
    "display: table;\n",
    "font-family: \"Helvetica Neue\", Helvetica, Arial, sans-serif;\n",
    "font-size: 12px;\n",
    "height: 1675px;\n",
    "line-height: 20px;\n",
    "margin-left: 0px;\n",
    "margin-right: 0px;\n",
    "margin-top: 12px;\n",
    "table-layout: fixed;\n",
    "text-size-adjust: 100%;\n",
    "width: 700px;\n",
    "-webkit-border-horizontal-spacing: 0px;\n",
    "-webkit-border-vertical-spacing: 0px;\n",
    "-webkit-tap-highlight-color: rgba(0, 0, 0, 0);\"\"\""
   ]
  },
  {
   "cell_type": "code",
   "execution_count": null,
   "metadata": {},
   "outputs": [],
   "source": [
    "def HTML_with_style(df, style=None, random_id=None):\n",
    "    from IPython.display import HTML\n",
    "    import numpy as np\n",
    "    import re\n",
    "\n",
    "    df_html = df.to_html()\n",
    "\n",
    "    if random_id is None:\n",
    "        random_id = 'id%d' % np.random.choice(np.arange(1000000))\n",
    "\n",
    "    if style is None:\n",
    "        style = \"\"\"\n",
    "        <style>\n",
    "            table#{random_id} {{color: blue}}\n",
    "        </style>\n",
    "        \"\"\".format(random_id=random_id)\n",
    "    else:\n",
    "        new_style = []\n",
    "        s = re.sub(r'</?style>', '', style).strip()\n",
    "        for line in s.split('\\n'):\n",
    "                line = line.strip()\n",
    "                if not re.match(r'^table', line):\n",
    "                    line = re.sub(r'^', 'table ', line)\n",
    "                new_style.append(line)\n",
    "        new_style = ['<style>'] + new_style + ['</style>']\n",
    "\n",
    "        style = re.sub(r'table(#\\S+)?', 'table#%s' % random_id, '\\n'.join(new_style))\n",
    "\n",
    "    df_html = re.sub(r'<table', r'<table id=%s ' % random_id, df_html)\n",
    "\n",
    "    return HTML(style + df_html) # remove HTML() if don't want rendered"
   ]
  },
  {
   "cell_type": "code",
   "execution_count": null,
   "metadata": {},
   "outputs": [],
   "source": [
    "#### Usage example\n",
    "\n",
    "#### Can't get this to actually do anything:\n",
    "# HTML_with_style(FACtype_tab2, '<style>table {{{}}}</style>'.format(my_style))"
   ]
  }
 ],
 "metadata": {
  "kernelspec": {
   "display_name": "Python 3",
   "language": "python",
   "name": "python3"
  },
  "language_info": {
   "codemirror_mode": {
    "name": "ipython",
    "version": 3
   },
   "file_extension": ".py",
   "mimetype": "text/x-python",
   "name": "python",
   "nbconvert_exporter": "python",
   "pygments_lexer": "ipython3",
   "version": "3.6.8"
  }
 },
 "nbformat": 4,
 "nbformat_minor": 2
}
